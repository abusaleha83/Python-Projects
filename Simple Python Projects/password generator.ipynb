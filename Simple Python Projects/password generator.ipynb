{
 "cells": [
  {
   "cell_type": "raw",
   "id": "40db042b",
   "metadata": {},
   "source": [
    "Simple Python Program used to generate Password by taking password length as input"
   ]
  },
  {
   "cell_type": "code",
   "execution_count": 3,
   "id": "01f4e941",
   "metadata": {},
   "outputs": [
    {
     "name": "stdout",
     "output_type": "stream",
     "text": [
      "Welcome to password generator\n",
      "Please enter the length of the password : 9\n",
      "Your Password is : JwBbVQD5I\n"
     ]
    }
   ],
   "source": [
    "import random\n",
    "print(\"Welcome to password generator\")\n",
    "passlen=int(input(\"Please enter the length of the password : \"))\n",
    "s=(\"abcdefghijklmnopqrstuvwxyzABCDEFGHIJKLMNOPQRSTUVWXYZ1234567890!~@#$%^&*()_+=-`\")\n",
    "p=\"\".join(random.sample(s,passlen))\n",
    "print(\"Your Password is : \"+p)"
   ]
  },
  {
   "cell_type": "code",
   "execution_count": null,
   "id": "939dce74",
   "metadata": {},
   "outputs": [],
   "source": []
  }
 ],
 "metadata": {
  "kernelspec": {
   "display_name": "Python 3 (ipykernel)",
   "language": "python",
   "name": "python3"
  },
  "language_info": {
   "codemirror_mode": {
    "name": "ipython",
    "version": 3
   },
   "file_extension": ".py",
   "mimetype": "text/x-python",
   "name": "python",
   "nbconvert_exporter": "python",
   "pygments_lexer": "ipython3",
   "version": "3.9.12"
  }
 },
 "nbformat": 4,
 "nbformat_minor": 5
}
